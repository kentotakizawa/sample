{
 "cells": [
  {
   "cell_type": "markdown",
   "id": "614967fa",
   "metadata": {},
   "source": [
    "メインの分析を補足するための予備分析をするファイル"
   ]
  },
  {
   "cell_type": "code",
   "execution_count": 2,
   "id": "8b2caa77",
   "metadata": {},
   "outputs": [],
   "source": [
    "import numpy as np\n",
    "import pandas as pd\n",
    "df = pd.read_csv('SSDSE-A-2024.csv', encoding = 'shift-jis')"
   ]
  },
  {
   "cell_type": "code",
   "execution_count": 3,
   "id": "9b86434c",
   "metadata": {},
   "outputs": [],
   "source": [
    "#どんなモデルを作るのにも必要なデータ加工\n",
    "\n",
    "new_header = df.iloc[1]  # ヘッダーに設定する行を抽出\n",
    "df = df[2:]  # ヘッダー以外を除外\n",
    "df.columns = new_header # ヘッダーを設定\n",
    "\n",
    "df = df.drop(columns = '地域コード') # 不要な列を削除"
   ]
  },
  {
   "cell_type": "code",
   "execution_count": 4,
   "id": "7214dd64",
   "metadata": {},
   "outputs": [],
   "source": [
    "#出生率の定義, 出生率を定義できない行の削除\n",
    "\n",
    "fr = pd.DataFrame({\n",
    "    'fertility_rate': pd.to_numeric(df['出生数'], errors='coerce') / pd.to_numeric(df['15〜64歳人口'], errors='coerce')\n",
    "    })  # fertility rate の暫定的な定義\n",
    "\n",
    "#inf_rows = fr[np.isinf(fr['fertility_rate'])] #403行目が無限大になる\n",
    "fr['fertility_rate'] = fr['fertility_rate'].replace([np.inf, -np.inf], np.nan) #403行目を一旦NaNに置き換え\n",
    "fr = fr.dropna(subset = ['fertility_rate']) #403行目を除去\n",
    "df = df.drop(index = 403) #元データセットの403行目も使わないので除去"
   ]
  },
  {
   "cell_type": "markdown",
   "id": "27745f7c",
   "metadata": {},
   "source": [
    "全国市区町村における毎年の15~64歳人口を, 既存データ(5年ごとの15~64歳人口データセット)から推定"
   ]
  },
  {
   "cell_type": "code",
   "execution_count": null,
   "id": "2b47c859",
   "metadata": {},
   "outputs": [],
   "source": []
  },
  {
   "cell_type": "markdown",
   "id": "9c8d1fed",
   "metadata": {},
   "source": [
    "転入者率と出生率の相関を確認"
   ]
  },
  {
   "cell_type": "code",
   "execution_count": 10,
   "id": "14d21b40",
   "metadata": {},
   "outputs": [
    {
     "data": {
      "text/plain": [
       "0.4109997214675287"
      ]
     },
     "execution_count": 10,
     "metadata": {},
     "output_type": "execute_result"
    }
   ],
   "source": [
    "tr = pd.DataFrame({\n",
    "    'transfer_rate' :\n",
    "        pd.to_numeric(df['転入者数（日本人移動者）'], errors='coerce') / pd.to_numeric(df['日本人人口'], errors='coerce')\n",
    "    }) # transfer rateを定義\n",
    "\n",
    "correlation = tr['transfer_rate'].astype(float).corr(\n",
    "    fr['fertility_rate'].astype(float)\n",
    ") # trとfrの相関を計算\n",
    "\n",
    "correlation"
   ]
  },
  {
   "cell_type": "code",
   "execution_count": null,
   "id": "d0475422",
   "metadata": {},
   "outputs": [],
   "source": []
  }
 ],
 "metadata": {
  "kernelspec": {
   "display_name": "Python 3",
   "language": "python",
   "name": "python3"
  },
  "language_info": {
   "codemirror_mode": {
    "name": "ipython",
    "version": 3
   },
   "file_extension": ".py",
   "mimetype": "text/x-python",
   "name": "python",
   "nbconvert_exporter": "python",
   "pygments_lexer": "ipython3",
   "version": "3.10.12"
  }
 },
 "nbformat": 4,
 "nbformat_minor": 5
}
